{
 "cells": [
  {
   "attachments": {},
   "cell_type": "markdown",
   "metadata": {},
   "source": [
    "Problema #2:\n",
    "\n",
    "Para entregar este ejercicio deberá subir un archivo .R con la\n",
    "pregunta en forma de comentario, el código que generó y su respuesta\n",
    "como comentario. Esta ejercicio requerirá un poco de investigación,\n",
    "no puede utilizar ninguna otra cosa que no se le haya enseñado en\n",
    "clase como librerías, funciones y demás, utilice la menor cantidad\n",
    "de líneas posible (1 línea idealmente), NO puede utilizar ninguna\n",
    "estructura de control de flujo (ciclos y condicionales).\n",
    "Antes de realizar este ejercicio limpie el Entorno de variales que\n",
    "ha construido hasta ahora, cargue el archivo data.Rdata en RStudio.\n",
    "Al cargarlo notará que existe una única variable llamada\n",
    "info_estidiantes, para dicha variable responda la siguientes\n",
    "preguntas:\n",
    "\n",
    "1. ¿Qué tipo de dato es info_estudiantes?\n",
    "2. ¿Cuantos elementos tiene info_estudiantes?\n",
    "3. ¿Qué representa cada uno de los elementos de info_estudiantes?\n",
    "4. ¿Cuál es la media de los estudiantes ingresados en el año 2019?\n",
    "5. ¿Cuál es la suma de desviación estándar de los estudiantes que\n",
    "ingresaron en el año 2016 y 2018?\n",
    "6. ¿Cuál es el mínimo de notas de aquellos estudiantes donde su\n",
    "carnet termina con los números 45 a 48?\n",
    "7. ¿Cuál es la probabilidad de que un estudiante tipo A tenga una\n",
    "nota mayor a 85?\n",
    "8. ¿Cuál es la probabilidad de que un estudiante tipo C haya\n",
    "ingresado en el año 2017 o 2019?"
   ]
  }
 ],
 "metadata": {
  "language_info": {
   "name": "python"
  },
  "orig_nbformat": 4
 },
 "nbformat": 4,
 "nbformat_minor": 2
}
